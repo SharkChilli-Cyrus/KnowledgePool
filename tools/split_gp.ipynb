{
 "cells": [
  {
   "cell_type": "markdown",
   "metadata": {
    "toc": true
   },
   "source": [
    "<h1>Table of Contents<span class=\"tocSkip\"></span></h1>\n",
    "<div class=\"toc\"><ul class=\"toc-item\"><li><span><a href=\"#Raw-Data\" data-toc-modified-id=\"Raw-Data-1\"><span class=\"toc-item-num\">1&nbsp;&nbsp;</span>Raw Data</a></span></li><li><span><a href=\"#Split\" data-toc-modified-id=\"Split-2\"><span class=\"toc-item-num\">2&nbsp;&nbsp;</span>Split</a></span></li></ul></div>"
   ]
  },
  {
   "cell_type": "code",
   "execution_count": 1,
   "metadata": {
    "ExecuteTime": {
     "end_time": "2021-03-14T02:14:02.576293Z",
     "start_time": "2021-03-14T02:14:02.313701Z"
    }
   },
   "outputs": [],
   "source": [
    "import sys\n",
    "import os\n",
    "import time\n",
    "import datetime\n",
    "\n",
    "import numpy as np\n",
    "import pandas as pd\n",
    "\n",
    "import warnings\n",
    "warnings.filterwarnings(\"ignore\")\n",
    "from IPython.core.interactiveshell import InteractiveShell\n",
    "InteractiveShell.ast_node_interactivity = \"all\""
   ]
  },
  {
   "cell_type": "markdown",
   "metadata": {},
   "source": [
    "---"
   ]
  },
  {
   "cell_type": "markdown",
   "metadata": {},
   "source": [
    "## Raw Data"
   ]
  },
  {
   "cell_type": "code",
   "execution_count": 15,
   "metadata": {
    "ExecuteTime": {
     "end_time": "2021-03-14T02:25:35.684323Z",
     "start_time": "2021-03-14T02:25:33.055413Z"
    }
   },
   "outputs": [
    {
     "data": {
      "text/plain": [
       "(1515304, 15)"
      ]
     },
     "execution_count": 15,
     "metadata": {},
     "output_type": "execute_result"
    },
    {
     "data": {
      "text/html": [
       "<div>\n",
       "<style scoped>\n",
       "    .dataframe tbody tr th:only-of-type {\n",
       "        vertical-align: middle;\n",
       "    }\n",
       "\n",
       "    .dataframe tbody tr th {\n",
       "        vertical-align: top;\n",
       "    }\n",
       "\n",
       "    .dataframe thead th {\n",
       "        text-align: right;\n",
       "    }\n",
       "</style>\n",
       "<table border=\"1\" class=\"dataframe\">\n",
       "  <thead>\n",
       "    <tr style=\"text-align: right;\">\n",
       "      <th></th>\n",
       "      <th>grass_region</th>\n",
       "      <th>gp_account_owner</th>\n",
       "      <th>gp_account_name</th>\n",
       "      <th>seller_name</th>\n",
       "      <th>level1_category</th>\n",
       "      <th>level2_category</th>\n",
       "      <th>shop_id</th>\n",
       "      <th>item_id</th>\n",
       "      <th>model_id</th>\n",
       "      <th>item_weight_g</th>\n",
       "      <th>current_listing_price</th>\n",
       "      <th>current_hidden_fee</th>\n",
       "      <th>new_hidden_fee</th>\n",
       "      <th>new_listing_price</th>\n",
       "      <th>price_issue</th>\n",
       "    </tr>\n",
       "  </thead>\n",
       "  <tbody>\n",
       "    <tr>\n",
       "      <th>0</th>\n",
       "      <td>TH</td>\n",
       "      <td>Asher Yu</td>\n",
       "      <td>深圳市三阳新能源科技有限公司</td>\n",
       "      <td>mikihouse.th</td>\n",
       "      <td>Fashion Accessories</td>\n",
       "      <td>Hair Accessories</td>\n",
       "      <td>219528671</td>\n",
       "      <td>3004800539</td>\n",
       "      <td>53728073313</td>\n",
       "      <td>50.0</td>\n",
       "      <td>45.0</td>\n",
       "      <td>10</td>\n",
       "      <td>5</td>\n",
       "      <td>40.0</td>\n",
       "      <td>0</td>\n",
       "    </tr>\n",
       "    <tr>\n",
       "      <th>1</th>\n",
       "      <td>TH</td>\n",
       "      <td>Asher Yu</td>\n",
       "      <td>深圳市三阳新能源科技有限公司</td>\n",
       "      <td>mikihouse.th</td>\n",
       "      <td>Fashion Accessories</td>\n",
       "      <td>Hair Accessories</td>\n",
       "      <td>219528671</td>\n",
       "      <td>3004800539</td>\n",
       "      <td>53728073314</td>\n",
       "      <td>50.0</td>\n",
       "      <td>45.0</td>\n",
       "      <td>10</td>\n",
       "      <td>5</td>\n",
       "      <td>40.0</td>\n",
       "      <td>0</td>\n",
       "    </tr>\n",
       "    <tr>\n",
       "      <th>2</th>\n",
       "      <td>TH</td>\n",
       "      <td>Asher Yu</td>\n",
       "      <td>深圳市三阳新能源科技有限公司</td>\n",
       "      <td>mikihouse.th</td>\n",
       "      <td>Fashion Accessories</td>\n",
       "      <td>Hair Accessories</td>\n",
       "      <td>219528671</td>\n",
       "      <td>3004800539</td>\n",
       "      <td>53728073315</td>\n",
       "      <td>50.0</td>\n",
       "      <td>38.0</td>\n",
       "      <td>10</td>\n",
       "      <td>5</td>\n",
       "      <td>33.0</td>\n",
       "      <td>0</td>\n",
       "    </tr>\n",
       "  </tbody>\n",
       "</table>\n",
       "</div>"
      ],
      "text/plain": [
       "  grass_region gp_account_owner gp_account_name   seller_name  \\\n",
       "0           TH         Asher Yu  深圳市三阳新能源科技有限公司  mikihouse.th   \n",
       "1           TH         Asher Yu  深圳市三阳新能源科技有限公司  mikihouse.th   \n",
       "2           TH         Asher Yu  深圳市三阳新能源科技有限公司  mikihouse.th   \n",
       "\n",
       "       level1_category   level2_category    shop_id     item_id     model_id  \\\n",
       "0  Fashion Accessories  Hair Accessories  219528671  3004800539  53728073313   \n",
       "1  Fashion Accessories  Hair Accessories  219528671  3004800539  53728073314   \n",
       "2  Fashion Accessories  Hair Accessories  219528671  3004800539  53728073315   \n",
       "\n",
       "   item_weight_g  current_listing_price  current_hidden_fee  new_hidden_fee  \\\n",
       "0           50.0                   45.0                  10               5   \n",
       "1           50.0                   45.0                  10               5   \n",
       "2           50.0                   38.0                  10               5   \n",
       "\n",
       "   new_listing_price  price_issue  \n",
       "0               40.0            0  \n",
       "1               40.0            0  \n",
       "2               33.0            0  "
      ]
     },
     "execution_count": 15,
     "metadata": {},
     "output_type": "execute_result"
    }
   ],
   "source": [
    "data_folder = \"/Users/xu.zhu/Desktop/Data/price_adjustment/th_202103\"\n",
    "data_filepath = os.path.join(data_folder, \"RawData_ToConfirm.csv\")\n",
    "\n",
    "df = pd.read_csv(data_filepath, encoding=\"utf-8-sig\")\n",
    "df.shape\n",
    "df.head(3)"
   ]
  },
  {
   "cell_type": "code",
   "execution_count": 16,
   "metadata": {
    "ExecuteTime": {
     "end_time": "2021-03-14T02:25:36.614508Z",
     "start_time": "2021-03-14T02:25:36.440239Z"
    }
   },
   "outputs": [
    {
     "data": {
      "text/plain": [
       "20589"
      ]
     },
     "execution_count": 16,
     "metadata": {},
     "output_type": "execute_result"
    }
   ],
   "source": [
    "issue_df = df[df[\"price_issue\"]==1]\n",
    "issue_df.shape[0]\n",
    "\n",
    "issue_df.to_csv(os.path.join(data_folder, \"RawData_issue.csv\"), index=False, encoding=\"utf-8-sig\")"
   ]
  },
  {
   "cell_type": "code",
   "execution_count": 17,
   "metadata": {
    "ExecuteTime": {
     "end_time": "2021-03-14T02:25:37.566638Z",
     "start_time": "2021-03-14T02:25:37.381938Z"
    }
   },
   "outputs": [
    {
     "data": {
      "text/plain": [
       "(1494715, 15)"
      ]
     },
     "execution_count": 17,
     "metadata": {},
     "output_type": "execute_result"
    },
    {
     "data": {
      "text/html": [
       "<div>\n",
       "<style scoped>\n",
       "    .dataframe tbody tr th:only-of-type {\n",
       "        vertical-align: middle;\n",
       "    }\n",
       "\n",
       "    .dataframe tbody tr th {\n",
       "        vertical-align: top;\n",
       "    }\n",
       "\n",
       "    .dataframe thead th {\n",
       "        text-align: right;\n",
       "    }\n",
       "</style>\n",
       "<table border=\"1\" class=\"dataframe\">\n",
       "  <thead>\n",
       "    <tr style=\"text-align: right;\">\n",
       "      <th></th>\n",
       "      <th>grass_region</th>\n",
       "      <th>gp_account_owner</th>\n",
       "      <th>gp_account_name</th>\n",
       "      <th>seller_name</th>\n",
       "      <th>level1_category</th>\n",
       "      <th>level2_category</th>\n",
       "      <th>shop_id</th>\n",
       "      <th>item_id</th>\n",
       "      <th>model_id</th>\n",
       "      <th>item_weight_g</th>\n",
       "      <th>current_listing_price</th>\n",
       "      <th>current_hidden_fee</th>\n",
       "      <th>new_hidden_fee</th>\n",
       "      <th>new_listing_price</th>\n",
       "      <th>price_issue</th>\n",
       "    </tr>\n",
       "  </thead>\n",
       "  <tbody>\n",
       "    <tr>\n",
       "      <th>1515302</th>\n",
       "      <td>TH</td>\n",
       "      <td>Zoe Zhou</td>\n",
       "      <td>南京铂彩创意珠宝设计有限公司</td>\n",
       "      <td>platinumcolor.th</td>\n",
       "      <td>Watches &amp; Glasses</td>\n",
       "      <td>Glasses</td>\n",
       "      <td>237658759</td>\n",
       "      <td>9601940448</td>\n",
       "      <td>42259709251</td>\n",
       "      <td>80.0</td>\n",
       "      <td>119.0</td>\n",
       "      <td>16</td>\n",
       "      <td>8</td>\n",
       "      <td>111.0</td>\n",
       "      <td>0</td>\n",
       "    </tr>\n",
       "    <tr>\n",
       "      <th>1515303</th>\n",
       "      <td>TH</td>\n",
       "      <td>Zoe Zhou</td>\n",
       "      <td>南京铂彩创意珠宝设计有限公司</td>\n",
       "      <td>platinumcolor.th</td>\n",
       "      <td>Watches &amp; Glasses</td>\n",
       "      <td>Glasses</td>\n",
       "      <td>237658759</td>\n",
       "      <td>9601940448</td>\n",
       "      <td>42259709252</td>\n",
       "      <td>80.0</td>\n",
       "      <td>119.0</td>\n",
       "      <td>16</td>\n",
       "      <td>8</td>\n",
       "      <td>111.0</td>\n",
       "      <td>0</td>\n",
       "    </tr>\n",
       "  </tbody>\n",
       "</table>\n",
       "</div>"
      ],
      "text/plain": [
       "        grass_region gp_account_owner gp_account_name       seller_name  \\\n",
       "1515302           TH         Zoe Zhou  南京铂彩创意珠宝设计有限公司  platinumcolor.th   \n",
       "1515303           TH         Zoe Zhou  南京铂彩创意珠宝设计有限公司  platinumcolor.th   \n",
       "\n",
       "           level1_category level2_category    shop_id     item_id  \\\n",
       "1515302  Watches & Glasses         Glasses  237658759  9601940448   \n",
       "1515303  Watches & Glasses         Glasses  237658759  9601940448   \n",
       "\n",
       "            model_id  item_weight_g  current_listing_price  \\\n",
       "1515302  42259709251           80.0                  119.0   \n",
       "1515303  42259709252           80.0                  119.0   \n",
       "\n",
       "         current_hidden_fee  new_hidden_fee  new_listing_price  price_issue  \n",
       "1515302                  16               8              111.0            0  \n",
       "1515303                  16               8              111.0            0  "
      ]
     },
     "execution_count": 17,
     "metadata": {},
     "output_type": "execute_result"
    }
   ],
   "source": [
    "raw_df = df[df[\"price_issue\"]==0]\n",
    "raw_df.shape\n",
    "raw_df.tail(2)"
   ]
  },
  {
   "cell_type": "code",
   "execution_count": 19,
   "metadata": {
    "ExecuteTime": {
     "end_time": "2021-03-14T13:04:15.859906Z",
     "start_time": "2021-03-14T13:04:15.239635Z"
    }
   },
   "outputs": [
    {
     "data": {
      "text/plain": [
       "['grass_region',\n",
       " 'gp_account_owner',\n",
       " 'gp_account_name',\n",
       " 'seller_name',\n",
       " 'level1_category',\n",
       " 'level2_category',\n",
       " 'shop_id',\n",
       " 'item_id',\n",
       " 'model_id',\n",
       " 'item_weight_g',\n",
       " 'current_listing_price',\n",
       " 'current_hidden_fee',\n",
       " 'new_hidden_fee',\n",
       " 'new_listing_price',\n",
       " 'price_issue']"
      ]
     },
     "execution_count": 19,
     "metadata": {},
     "output_type": "execute_result"
    },
    {
     "name": "stdout",
     "output_type": "stream",
     "text": [
      "GP: 112\n",
      "Shop: 133\n",
      "SKU: 144956\n",
      "Model: 1494715\n"
     ]
    }
   ],
   "source": [
    "raw_df.columns.to_list()\n",
    "\n",
    "gp_cnt = len(set(raw_df[\"gp_account_name\"].to_list()))\n",
    "shop_cnt = len(set(raw_df[\"shop_id\"].to_list()))\n",
    "sku_cnt = len(set(raw_df[\"item_id\"].to_list()))\n",
    "model_cnt = len(set(raw_df[\"model_id\"].to_list()))\n",
    "print(\"GP: {0}\\nShop: {1}\\nSKU: {2}\\nModel: {3}\".format(gp_cnt, shop_cnt, sku_cnt, model_cnt))"
   ]
  },
  {
   "cell_type": "markdown",
   "metadata": {},
   "source": [
    "## Split"
   ]
  },
  {
   "cell_type": "code",
   "execution_count": 14,
   "metadata": {
    "ExecuteTime": {
     "end_time": "2021-03-14T02:24:14.778719Z",
     "start_time": "2021-03-14T02:24:14.775701Z"
    }
   },
   "outputs": [],
   "source": [
    "def create_new_folder(folder_path):\n",
    "    if os.path.exists(folder_path) == False:\n",
    "        os.mkdir(folder_path)\n",
    "    else:\n",
    "        pass"
   ]
  },
  {
   "cell_type": "code",
   "execution_count": null,
   "metadata": {},
   "outputs": [],
   "source": [
    "key_cols = [\"gp_account_owner\", \"gp_account_name\", \"shop_id\", \"item_id\", \"model_id\", \"new_listing_price\"]"
   ]
  },
  {
   "cell_type": "code",
   "execution_count": 50,
   "metadata": {
    "ExecuteTime": {
     "end_time": "2021-03-14T13:54:29.976488Z",
     "start_time": "2021-03-14T13:50:20.489684Z"
    }
   },
   "outputs": [],
   "source": [
    "to_confirm_folder = \"/Users/xu.zhu/Desktop/Data/price_adjustment/th_202103/to_confirm\"\n",
    "create_new_folder(to_confirm_folder)\n",
    "\n",
    "raw_df = raw_df.drop(columns=[\"price_issue\"])\n",
    "raw_cols = raw_df.columns.to_list()\n",
    "raw_cols_cnt = len(raw_cols)\n",
    "index_dict = {\n",
    "    1: \"A\", 2: \"B\", 3: \"C\", 4: \"D\", 5: \"E\", 6: \"F\", 7: \"G\",\n",
    "    8: \"H\", 9: \"I\", 10: \"J\", 11: \"K\", 12: \"L\", 13: \"M\", 14: \"N\",\n",
    "    15: \"O\", 16: \"P\", 17: \"Q\", 18: \"R\", 19: \"S\", 20: \"T\", 21: \"U\",\n",
    "    22: \"V\", 23: \"W\", 24: \"X\", 25: \"Y\", 26: \"Z\"\n",
    "}\n",
    "\n",
    "row_cutoff = 500000\n",
    "\n",
    "gp_owners = list(set(raw_df[\"gp_account_owner\"]))\n",
    "for owner in gp_owners:\n",
    "    owner_folder = os.path.join(to_confirm_folder, owner)\n",
    "    create_new_folder(owner_folder)\n",
    "    \n",
    "    owner_df = raw_df[raw_df[\"gp_account_owner\"] == owner]\n",
    "    gp_accounts = list(set(owner_df[\"gp_account_name\"]))\n",
    "    for gp_account in gp_accounts:\n",
    "        account_df = owner_df[owner_df[\"gp_account_name\"] == gp_account]\n",
    "        account_df[\"confirmed\"] = None\n",
    "        additional_col_index = index_dict[raw_cols_cnt + 1]\n",
    "        \n",
    "        gp_row_cnt = account_df.shape[0]\n",
    "        if gp_row_cnt < row_cutoff:\n",
    "            excel_writer = pd.ExcelWriter(\n",
    "                    os.path.join(owner_folder, \"{0}.xlsx\".format(gp_account)),\n",
    "                    engine=\"xlsxwriter\"\n",
    "                )\n",
    "            account_df.to_excel(\n",
    "                excel_writer,\n",
    "                sheet_name=\"gp_account\",\n",
    "                index=False,\n",
    "                encoding=\"utf-8-sig\"\n",
    "            )\n",
    "            worksheet = excel_writer.sheets[\"gp_account\"]\n",
    "            worksheet.data_validation(\n",
    "                \"{index}2:{index}{row_num}\".format(index=additional_col_index, row_num=gp_row_cnt+1),\n",
    "                {\"validate\": \"list\", \"source\": [\"Y\", \"N\"]}\n",
    "            )\n",
    "            excel_writer.save()\n",
    "            \n",
    "        else:\n",
    "            print(\"- Big DataFrame: {0}, Row Number: {1}\".format(gp_account, gp_row_cnt))\n",
    "            split_count=1\n",
    "            start_index = 0\n",
    "            for i in range(gp_row_cnt//row_cutoff + 1):\n",
    "                split_account_df = account_df.iloc[start_index:start_index+row_cutoff]\n",
    "                \n",
    "                excel_writer = pd.ExcelWriter(\n",
    "                    os.path.join(owner_folder, \"{0}_{1}.xlsx\".format(gp_account, split_count)),\n",
    "                    engine=\"xlsxwriter\"\n",
    "                )\n",
    "                split_account_df.to_excel(\n",
    "                    excel_writer,\n",
    "                    sheet_name=\"gp_account\",\n",
    "                    index=False,\n",
    "                    encoding=\"utf-8-sig\"\n",
    "                )\n",
    "                worksheet = excel_writer.sheets[\"gp_account\"]\n",
    "                worksheet.data_validation(\n",
    "                    \"{index}2:{index}{row_num}\".format(index=additional_col_index, row_num=gp_row_cnt+1),\n",
    "                    {\"validate\": \"list\", \"source\": [\"Y\", \"N\"]}\n",
    "                )\n",
    "                excel_writer.save()\n",
    "                \n",
    "                start_index += row_cutoff\n",
    "                split_count += 1"
   ]
  },
  {
   "cell_type": "code",
   "execution_count": null,
   "metadata": {},
   "outputs": [],
   "source": []
  }
 ],
 "metadata": {
  "kernelspec": {
   "display_name": "Python 3",
   "language": "python",
   "name": "python3"
  },
  "language_info": {
   "codemirror_mode": {
    "name": "ipython",
    "version": 3
   },
   "file_extension": ".py",
   "mimetype": "text/x-python",
   "name": "python",
   "nbconvert_exporter": "python",
   "pygments_lexer": "ipython3",
   "version": "3.7.6"
  },
  "toc": {
   "base_numbering": 1,
   "nav_menu": {},
   "number_sections": true,
   "sideBar": true,
   "skip_h1_title": true,
   "title_cell": "Table of Contents",
   "title_sidebar": "Contents",
   "toc_cell": true,
   "toc_position": {},
   "toc_section_display": true,
   "toc_window_display": false
  },
  "varInspector": {
   "cols": {
    "lenName": 16,
    "lenType": 16,
    "lenVar": 40
   },
   "kernels_config": {
    "python": {
     "delete_cmd_postfix": "",
     "delete_cmd_prefix": "del ",
     "library": "var_list.py",
     "varRefreshCmd": "print(var_dic_list())"
    },
    "r": {
     "delete_cmd_postfix": ") ",
     "delete_cmd_prefix": "rm(",
     "library": "var_list.r",
     "varRefreshCmd": "cat(var_dic_list()) "
    }
   },
   "types_to_exclude": [
    "module",
    "function",
    "builtin_function_or_method",
    "instance",
    "_Feature"
   ],
   "window_display": false
  }
 },
 "nbformat": 4,
 "nbformat_minor": 4
}
